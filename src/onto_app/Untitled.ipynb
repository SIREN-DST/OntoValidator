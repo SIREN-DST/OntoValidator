{
 "cells": [
  {
   "cell_type": "code",
   "execution_count": 73,
   "metadata": {},
   "outputs": [],
   "source": [
    "from sqlalchemy import *\n",
    "engine = create_engine('sqlite:///onto.db', echo = False)\n",
    "c = engine.connect()"
   ]
  },
  {
   "cell_type": "code",
   "execution_count": 164,
   "metadata": {},
   "outputs": [
    {
     "name": "stdout",
     "output_type": "stream",
     "text": [
      "2020-12-13 02:20:25,575 INFO sqlalchemy.engine.base.Engine DELETE FROM final_node_decisions;\n"
     ]
    },
    {
     "name": "stderr",
     "output_type": "stream",
     "text": [
      "INFO:sqlalchemy.engine.base.Engine:DELETE FROM final_node_decisions;\n"
     ]
    },
    {
     "name": "stdout",
     "output_type": "stream",
     "text": [
      "2020-12-13 02:20:25,583 INFO sqlalchemy.engine.base.Engine ()\n"
     ]
    },
    {
     "name": "stderr",
     "output_type": "stream",
     "text": [
      "INFO:sqlalchemy.engine.base.Engine:()\n"
     ]
    },
    {
     "name": "stdout",
     "output_type": "stream",
     "text": [
      "2020-12-13 02:20:25,587 INFO sqlalchemy.engine.base.Engine COMMIT\n"
     ]
    },
    {
     "name": "stderr",
     "output_type": "stream",
     "text": [
      "INFO:sqlalchemy.engine.base.Engine:COMMIT\n"
     ]
    },
    {
     "data": {
      "text/plain": [
       "<sqlalchemy.engine.result.ResultProxy at 0x14229bfd0>"
      ]
     },
     "execution_count": 164,
     "metadata": {},
     "output_type": "execute_result"
    }
   ],
   "source": [
    "c = engine.connect()\n",
    "c.execution_options(autocommit=True).execute(\"DELETE FROM final_node_decisions;\")\n",
    "# results.fetchall()"
   ]
  },
  {
   "cell_type": "code",
   "execution_count": 142,
   "metadata": {},
   "outputs": [
    {
     "name": "stdout",
     "output_type": "stream",
     "text": [
      "2020-12-13 01:11:19,622 INFO sqlalchemy.engine.base.Engine SELECT CAST('test plain returns' AS VARCHAR(60)) AS anon_1\n"
     ]
    },
    {
     "name": "stderr",
     "output_type": "stream",
     "text": [
      "INFO:sqlalchemy.engine.base.Engine:SELECT CAST('test plain returns' AS VARCHAR(60)) AS anon_1\n"
     ]
    },
    {
     "name": "stdout",
     "output_type": "stream",
     "text": [
      "2020-12-13 01:11:19,632 INFO sqlalchemy.engine.base.Engine ()\n"
     ]
    },
    {
     "name": "stderr",
     "output_type": "stream",
     "text": [
      "INFO:sqlalchemy.engine.base.Engine:()\n"
     ]
    },
    {
     "name": "stdout",
     "output_type": "stream",
     "text": [
      "2020-12-13 01:11:19,640 INFO sqlalchemy.engine.base.Engine SELECT CAST('test unicode returns' AS VARCHAR(60)) AS anon_1\n"
     ]
    },
    {
     "name": "stderr",
     "output_type": "stream",
     "text": [
      "INFO:sqlalchemy.engine.base.Engine:SELECT CAST('test unicode returns' AS VARCHAR(60)) AS anon_1\n"
     ]
    },
    {
     "name": "stdout",
     "output_type": "stream",
     "text": [
      "2020-12-13 01:11:19,644 INFO sqlalchemy.engine.base.Engine ()\n"
     ]
    },
    {
     "name": "stderr",
     "output_type": "stream",
     "text": [
      "INFO:sqlalchemy.engine.base.Engine:()\n"
     ]
    },
    {
     "name": "stdout",
     "output_type": "stream",
     "text": [
      "2020-12-13 01:11:19,648 INFO sqlalchemy.engine.base.Engine BEGIN (implicit)\n"
     ]
    },
    {
     "name": "stderr",
     "output_type": "stream",
     "text": [
      "INFO:sqlalchemy.engine.base.Engine:BEGIN (implicit)\n"
     ]
    },
    {
     "name": "stdout",
     "output_type": "stream",
     "text": [
      "2020-12-13 01:11:19,666 INFO sqlalchemy.engine.base.Engine SELECT * FROM node_decisions INNER JOIN nodes ON node_decisions.node_id =nodes.id \n"
     ]
    },
    {
     "name": "stderr",
     "output_type": "stream",
     "text": [
      "INFO:sqlalchemy.engine.base.Engine:SELECT * FROM node_decisions INNER JOIN nodes ON node_decisions.node_id =nodes.id \n"
     ]
    },
    {
     "name": "stdout",
     "output_type": "stream",
     "text": [
      "2020-12-13 01:11:19,683 INFO sqlalchemy.engine.base.Engine ()\n"
     ]
    },
    {
     "name": "stderr",
     "output_type": "stream",
     "text": [
      "INFO:sqlalchemy.engine.base.Engine:()\n"
     ]
    },
    {
     "data": {
      "text/plain": [
       "[(1, 4, 1, 1324455346191020032, 4, 1, \"https://serc.iiit.ac.in/downloads/ontology/pizza.owl#Domino'SPizza\"),\n",
       " (2, 3, 0, 1324455346191020032, 3, 1, 'https://serc.iiit.ac.in/downloads/ontology/pizza.owl#Peri-Peri'),\n",
       " (3, 2, 1, 1324455346191020032, 2, 1, 'https://serc.iiit.ac.in/downloads/ontology/pizza.owl#Marinara'),\n",
       " (4, 1, 1, 1324455346191020032, 1, 1, 'https://serc.iiit.ac.in/downloads/ontology/pizza.owl#TandooriPizza'),\n",
       " (5, 5, 1, 1324455346191020032, 5, 1, 'https://serc.iiit.ac.in/downloads/ontology/pizza.owl#IndianPizza'),\n",
       " (6, 5, 1, 1324449088826343424, 5, 1, 'https://serc.iiit.ac.in/downloads/ontology/pizza.owl#IndianPizza'),\n",
       " (7, 1, 1, 1324449088826343424, 1, 1, 'https://serc.iiit.ac.in/downloads/ontology/pizza.owl#TandooriPizza'),\n",
       " (8, 3, 1, 1324449088826343424, 3, 1, 'https://serc.iiit.ac.in/downloads/ontology/pizza.owl#Peri-Peri'),\n",
       " (9, 2, 1, 1324449088826343424, 2, 1, 'https://serc.iiit.ac.in/downloads/ontology/pizza.owl#Marinara'),\n",
       " (10, 4, 1, 1324449088826343424, 4, 1, \"https://serc.iiit.ac.in/downloads/ontology/pizza.owl#Domino'SPizza\")]"
      ]
     },
     "execution_count": 142,
     "metadata": {},
     "output_type": "execute_result"
    }
   ],
   "source": [
    "engine = create_engine('sqlite:///onto.db', echo = True)\n",
    "    # conn = sqlite3.connect('onto.db')\n",
    "    # c = conn.cursor()\n",
    "c = engine.connect()\n",
    "trans = c.begin()\n",
    "query = \"\"\"SELECT * FROM node_decisions INNER JOIN nodes ON node_decisions.node_id =nodes.id \"\"\"\n",
    "result = c.execute(query)\n",
    "result.fetchall()"
   ]
  },
  {
   "cell_type": "code",
   "execution_count": 160,
   "metadata": {},
   "outputs": [
    {
     "name": "stdout",
     "output_type": "stream",
     "text": [
      "2020-12-13 02:14:12,230 INFO sqlalchemy.engine.base.Engine SELECT CAST('test plain returns' AS VARCHAR(60)) AS anon_1\n"
     ]
    },
    {
     "name": "stderr",
     "output_type": "stream",
     "text": [
      "INFO:sqlalchemy.engine.base.Engine:SELECT CAST('test plain returns' AS VARCHAR(60)) AS anon_1\n"
     ]
    },
    {
     "name": "stdout",
     "output_type": "stream",
     "text": [
      "2020-12-13 02:14:12,233 INFO sqlalchemy.engine.base.Engine ()\n"
     ]
    },
    {
     "name": "stderr",
     "output_type": "stream",
     "text": [
      "INFO:sqlalchemy.engine.base.Engine:()\n"
     ]
    },
    {
     "name": "stdout",
     "output_type": "stream",
     "text": [
      "2020-12-13 02:14:12,241 INFO sqlalchemy.engine.base.Engine SELECT CAST('test unicode returns' AS VARCHAR(60)) AS anon_1\n"
     ]
    },
    {
     "name": "stderr",
     "output_type": "stream",
     "text": [
      "INFO:sqlalchemy.engine.base.Engine:SELECT CAST('test unicode returns' AS VARCHAR(60)) AS anon_1\n"
     ]
    },
    {
     "name": "stdout",
     "output_type": "stream",
     "text": [
      "2020-12-13 02:14:12,244 INFO sqlalchemy.engine.base.Engine ()\n"
     ]
    },
    {
     "name": "stderr",
     "output_type": "stream",
     "text": [
      "INFO:sqlalchemy.engine.base.Engine:()\n"
     ]
    },
    {
     "name": "stdout",
     "output_type": "stream",
     "text": [
      "2020-12-13 02:14:12,249 INFO sqlalchemy.engine.base.Engine BEGIN (implicit)\n"
     ]
    },
    {
     "name": "stderr",
     "output_type": "stream",
     "text": [
      "INFO:sqlalchemy.engine.base.Engine:BEGIN (implicit)\n"
     ]
    },
    {
     "name": "stdout",
     "output_type": "stream",
     "text": [
      "2020-12-13 02:14:12,256 INFO sqlalchemy.engine.base.Engine SELECT domain, range, property FROM class_relations \n",
      "        INNER JOIN final_class_decisions ON class_relations.id = final_class_decisions.relation_id\n",
      "        INNER JOIN ontologies ON class_relations.onto_id = ontologies.id\n",
      "        WHERE ontologies.name = :name AND final_class_decisions.approved != 0\n"
     ]
    },
    {
     "name": "stderr",
     "output_type": "stream",
     "text": [
      "INFO:sqlalchemy.engine.base.Engine:SELECT domain, range, property FROM class_relations \n",
      "        INNER JOIN final_class_decisions ON class_relations.id = final_class_decisions.relation_id\n",
      "        INNER JOIN ontologies ON class_relations.onto_id = ontologies.id\n",
      "        WHERE ontologies.name = :name AND final_class_decisions.approved != 0\n"
     ]
    },
    {
     "name": "stdout",
     "output_type": "stream",
     "text": [
      "2020-12-13 02:14:12,261 INFO sqlalchemy.engine.base.Engine {'name': 'pizza'}\n"
     ]
    },
    {
     "name": "stderr",
     "output_type": "stream",
     "text": [
      "INFO:sqlalchemy.engine.base.Engine:{'name': 'pizza'}\n"
     ]
    },
    {
     "data": {
      "text/plain": [
       "[('https://serc.iiit.ac.in/downloads/ontology/pizza.owl#Pizza', \"https://serc.iiit.ac.in/downloads/ontology/pizza.owl#Domino'SPizza\", 'hasInstance'),\n",
       " ('https://serc.iiit.ac.in/downloads/ontology/pizza.owl#Peri-Peri', 'https://serc.iiit.ac.in/downloads/ontology/pizza.owl#Pizza', 'subclassOf'),\n",
       " ('https://serc.iiit.ac.in/downloads/ontology/pizza.owl#Marinara', 'https://serc.iiit.ac.in/downloads/ontology/pizza.owl#Pizza', 'isToppingOf'),\n",
       " ('https://serc.iiit.ac.in/downloads/ontology/pizza.owl#TandooriPizza', 'https://serc.iiit.ac.in/downloads/ontology/pizza.owl#IndianPizza', 'subclassOf')]"
      ]
     },
     "execution_count": 160,
     "metadata": {},
     "output_type": "execute_result"
    }
   ],
   "source": [
    "engine = create_engine('sqlite:///onto.db', echo = True)\n",
    "    # conn = sqlite3.connect('onto.db')\n",
    "    # c = conn.cursor()\n",
    "c = engine.connect()\n",
    "trans = c.begin()\n",
    "query = \"\"\"SELECT domain, range, property FROM class_relations \n",
    "        INNER JOIN final_class_decisions ON class_relations.id = final_class_decisions.relation_id\n",
    "        INNER JOIN ontologies ON class_relations.onto_id = ontologies.id\n",
    "        WHERE ontologies.name = :name AND final_class_decisions.approved != 0\"\"\"\n",
    "result = c.execute(query, {'name': 'pizza'})\n",
    "result.fetchall()"
   ]
  },
  {
   "cell_type": "code",
   "execution_count": 31,
   "metadata": {},
   "outputs": [],
   "source": [
    "from owlready2 import *\n",
    "\n",
    "from re import finditer\n",
    "def split_by_camel_case(identifier):\n",
    "    # Split string by camel-case\n",
    "    matches = finditer('.+?(?:(?<=[a-z])(?=[A-Z])|(?<=[A-Z])(?=[A-Z][a-z])|$)', identifier)\n",
    "    return \" \".join([m.group(0) for m in matches])\n",
    "\n",
    "ont = get_ontology(\"data/input/ontologies/pizza.owl\").load()\n",
    "ont_classes = list(ont.classes())\n",
    "classes = [split_by_camel_case(elem.label.first()).lower() for elem in ont_classes]\n",
    "\n",
    "##if term1 not in set(classes) or term2 in set(classes):\n",
    "    ##append it\n",
    "# idx1 = classes.index(term1) \n",
    "# idx2 = classes.index(term2)\n",
    "# ont_classes[idx1], ont_classes[idx2]"
   ]
  },
  {
   "cell_type": "code",
   "execution_count": 121,
   "metadata": {},
   "outputs": [],
   "source": [
    "# Definition for singly-linked list.\n",
    "class ListNode:\n",
    "    def __init__(self, val=0, next=None):\n",
    "        self.val = val\n",
    "        self.next = next\n",
    "class Solution:\n",
    "    def getNum(self, node):\n",
    "        l = []\n",
    "        currNode = node\n",
    "        while currNode:\n",
    "            l.append(str(currNode.val))\n",
    "            currNode = currNode.next\n",
    "        num = int(''.join(l[::-1]))\n",
    "        return num\n",
    "        \n",
    "    def addTwoNumbers(self, l1: ListNode, l2: ListNode) -> ListNode:\n",
    "        n1 = self.getNum(l1)\n",
    "        n2 = self.getNum(l2)\n",
    "        print (n1, n2)\n",
    "        added = str(n1 + n2)\n",
    "        finalnodes = []\n",
    "        for intg in added[::-1]:\n",
    "            finalnodes.append(ListNode(intg))\n",
    "        for i,f in enumerate(finalnodes[:-1]):\n",
    "            f.next = finalnodes[i+1]\n",
    "        finalnodes[-1].next = None\n",
    "        return finalnodes[0]\n",
    "        \n"
   ]
  },
  {
   "cell_type": "code",
   "execution_count": 125,
   "metadata": {},
   "outputs": [
    {
     "data": {
      "text/plain": [
       "2"
      ]
     },
     "execution_count": 125,
     "metadata": {},
     "output_type": "execute_result"
    }
   ],
   "source": [
    "np.argmax((1,2,3))"
   ]
  },
  {
   "cell_type": "code",
   "execution_count": 8,
   "metadata": {},
   "outputs": [
    {
     "data": {
      "text/plain": [
       "['/Users/vivek/SIREN-Research/Research-Work/OntoViewer/src/onto_app/data/input/ontologies/pizza.owl',\n",
       " '/Users/vivek/SIREN-Research/Research-Work/OntoViewer/src/onto_app/data/input/ontologies/security.owl']"
      ]
     },
     "execution_count": 8,
     "metadata": {},
     "output_type": "execute_result"
    }
   ],
   "source": [
    "import os\n",
    "import glob\n",
    "[os.path.abspath(f) for f in glob.glob(\"./data/input/ontologies/*\") if isfile(f) and f.endswith(\".owl\")]"
   ]
  },
  {
   "cell_type": "code",
   "execution_count": 171,
   "metadata": {},
   "outputs": [
    {
     "data": {
      "text/plain": [
       "'asset owned by organization'"
      ]
     },
     "execution_count": 171,
     "metadata": {},
     "output_type": "execute_result"
    }
   ],
   "source": [
    "prop"
   ]
  },
  {
   "cell_type": "code",
   "execution_count": null,
   "metadata": {},
   "outputs": [],
   "source": []
  }
 ],
 "metadata": {
  "kernelspec": {
   "display_name": "Python 3",
   "language": "python",
   "name": "python3"
  },
  "language_info": {
   "codemirror_mode": {
    "name": "ipython",
    "version": 3
   },
   "file_extension": ".py",
   "mimetype": "text/x-python",
   "name": "python",
   "nbconvert_exporter": "python",
   "pygments_lexer": "ipython3",
   "version": "3.6.12"
  }
 },
 "nbformat": 4,
 "nbformat_minor": 2
}
